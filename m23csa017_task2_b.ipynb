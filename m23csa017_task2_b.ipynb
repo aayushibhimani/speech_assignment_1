{
 "cells": [
  {
   "cell_type": "code",
   "execution_count": 18,
   "metadata": {},
   "outputs": [],
   "source": [
    "import librosa\n",
    "import librosa.display\n",
    "import numpy as np\n",
    "import matplotlib.pyplot as plt\n",
    "import os\n",
    "import pandas as pd\n",
    "import matplotlib.ticker as ticker"
   ]
  },
  {
   "cell_type": "code",
   "execution_count": 19,
   "metadata": {},
   "outputs": [],
   "source": [
    "def hann_window(N):\n",
    "    n = np.arange(N)\n",
    "    return 0.5 * (1 - np.cos(2 * np.pi * n / (N - 1)))\n",
    "\n",
    "def hamming_window(N):\n",
    "    n = np.arange(N)\n",
    "    return 0.54 - 0.46 * np.cos(2 * np.pi * n / (N - 1))\n",
    "\n",
    "def rectangular_window(N):\n",
    "    return np.ones(N)"
   ]
  },
  {
   "cell_type": "code",
   "execution_count": 20,
   "metadata": {},
   "outputs": [],
   "source": [
    "def compute_stft(y, sr, window_func, N=512, hop_length=256):\n",
    "    window = window_func(N)\n",
    "    D = librosa.stft(y, n_fft=N, hop_length=hop_length, window=window)\n",
    "    freqs = librosa.fft_frequencies(sr=sr, n_fft=N)\n",
    "    times = librosa.frames_to_time(np.arange(D.shape[1]), sr=sr, hop_length=hop_length, n_fft=N)\n",
    "    return D, freqs, times\n",
    "\n",
    "\n",
    "def compute_spectral_metrics(D, y, sr):\n",
    "    spectral_centroid = librosa.feature.spectral_centroid(S=np.abs(D), sr=sr)\n",
    "    spectral_bandwidth = librosa.feature.spectral_bandwidth(S=np.abs(D), sr=sr)\n",
    "    return spectral_centroid, spectral_bandwidth\n",
    "\n",
    "\n",
    "def compute_correctness_metrics(y, D, sr):\n",
    "    noise_floor = np.mean(np.abs(D)) * 0.1\n",
    "    snr = 10 * np.log10(np.mean(y ** 2) / (noise_floor ** 2))\n",
    "    spectral_leakage = np.sum(np.abs(D)) / np.max(np.abs(D))\n",
    "    rmse = np.sqrt(np.mean((np.abs(D) - np.abs(y[:D.shape[1]])) ** 2))\n",
    "    return snr, spectral_leakage, rmse"
   ]
  },
  {
   "cell_type": "code",
   "execution_count": 21,
   "metadata": {},
   "outputs": [],
   "source": [
    "def plot_spectrogram(D, freqs, times, title, sr, hop_length, save_path):\n",
    "    plt.figure(figsize=(16, 4))\n",
    "    S_db = librosa.amplitude_to_db(np.abs(D), ref=np.max)\n",
    "    librosa.display.specshow(S_db, sr=sr, hop_length=hop_length, x_axis='time', y_axis='hz', cmap='viridis')\n",
    "    plt.colorbar(format='%+2.0f dB')\n",
    "    plt.title(title)\n",
    "    plt.xlabel('Time (minutes)')\n",
    "    plt.ylabel('Frequency (Hz)')\n",
    "    plt.tight_layout()\n",
    "    \n",
    "    \n",
    "    ax = plt.gca()\n",
    "    ax.xaxis.set_major_formatter(ticker.FuncFormatter(lambda x, pos: f'{x/60:.1f}'))\n",
    "    \n",
    "    plt.savefig(save_path)\n",
    "    plt.close()\n",
    "\n",
    "\n",
    "def plot_waveform(y, sr, title, save_path):\n",
    "    plt.figure(figsize=(16, 4))\n",
    "    times = np.arange(len(y)) / sr\n",
    "    plt.plot(times, y, color='steelblue')\n",
    "    plt.title(title)\n",
    "    plt.xlabel('Time (minutes)')\n",
    "    plt.ylabel('Amplitude')\n",
    "    plt.tight_layout()\n",
    "    \n",
    "\n",
    "    ax = plt.gca()\n",
    "    ax.xaxis.set_major_formatter(ticker.FuncFormatter(lambda x, pos: f'{x/60:.1f}'))\n",
    "    \n",
    "    plt.savefig(save_path)\n",
    "    plt.close()"
   ]
  },
  {
   "cell_type": "code",
   "execution_count": 22,
   "metadata": {},
   "outputs": [
    {
     "name": "stdout",
     "output_type": "stream",
     "text": [
      "\n",
      "Processing 'Pehla Nasha' from the Classical genre.\n"
     ]
    },
    {
     "name": "stderr",
     "output_type": "stream",
     "text": [
      "/tmp/ipykernel_4114937/3414715320.py:27: UserWarning: PySoundFile failed. Trying audioread instead.\n",
      "  y, sr = librosa.load(file_path, sr=None)\n"
     ]
    },
    {
     "name": "stdout",
     "output_type": "stream",
     "text": [
      "Loaded 'Pehla Nasha' successfully. Duration: 4.89 minutes.\n",
      "Waveform for 'Pehla Nasha' saved at: ../output/song_spectrogram/Pehla Nasha_waveform.png\n",
      "Generating spectrogram using Hann Window...\n",
      "Generating spectrogram using Hamming Window...\n",
      "Generating spectrogram using Rectangular Window...\n",
      "\n",
      "Processing 'Dil Ko Hazar Bar' from the Jazz genre.\n",
      "Loaded 'Dil Ko Hazar Bar' successfully. Duration: 5.57 minutes.\n",
      "Waveform for 'Dil Ko Hazar Bar' saved at: ../output/song_spectrogram/Dil Ko Hazar Bar_waveform.png\n",
      "Generating spectrogram using Hann Window...\n",
      "Generating spectrogram using Hamming Window...\n",
      "Generating spectrogram using Rectangular Window...\n",
      "\n",
      "Processing 'Pichle Saat Dino Mein' from the Rock genre.\n",
      "Loaded 'Pichle Saat Dino Mein' successfully. Duration: 3.21 minutes.\n",
      "Waveform for 'Pichle Saat Dino Mein' saved at: ../output/song_spectrogram/Pichle Saat Dino Mein_waveform.png\n",
      "Generating spectrogram using Hann Window...\n",
      "Generating spectrogram using Hamming Window...\n",
      "Generating spectrogram using Rectangular Window...\n",
      "\n",
      "Processing 'Lean On' from the Electronic genre.\n",
      "Loaded 'Lean On' successfully. Duration: 2.98 minutes.\n",
      "Waveform for 'Lean On' saved at: ../output/song_spectrogram/Lean On_waveform.png\n",
      "Generating spectrogram using Hann Window...\n",
      "Generating spectrogram using Hamming Window...\n",
      "Generating spectrogram using Rectangular Window...\n"
     ]
    }
   ],
   "source": [
    "songs = [\n",
    "    {'genre': 'Classical', 'title': 'Pehla Nasha', 'file_path': '../data/songs/Pehla Nasha.mp3'},\n",
    "    {'genre': 'Jazz', 'title': 'Dil Ko Hazar Bar', 'file_path': '../data/songs/Dil Ko Hazar Bar.mp3'},\n",
    "    {'genre': 'Rock', 'title': 'Pichle Saat Dino Mein', 'file_path': '../data/songs/Pichle Saat Dinon Mein.mp3'},\n",
    "    {'genre': 'Electronic', 'title': 'Lean On', 'file_path': '../data/songs/Lean On.mp3'}\n",
    "]\n",
    "\n",
    "output_dir = \"../output/song_spectrogram\"\n",
    "os.makedirs(output_dir, exist_ok=True)\n",
    "\n",
    "window_types = {\n",
    "    'Hann Window': hann_window,\n",
    "    'Hamming Window': hamming_window,\n",
    "    'Rectangular Window': rectangular_window\n",
    "}\n",
    "\n",
    "results = []\n",
    "\n",
    "for song in songs:\n",
    "    genre = song['genre']\n",
    "    title = song['title']\n",
    "    file_path = song['file_path']\n",
    "    \n",
    "    print(f\"\\nProcessing '{title}' from the {genre} genre.\")\n",
    "    \n",
    "\n",
    "    y, sr = librosa.load(file_path, sr=None)\n",
    "    duration = librosa.get_duration(y=y, sr=sr)\n",
    "    print(f\"Loaded '{title}' successfully. Duration: {duration/60:.2f} minutes.\")\n",
    "\n",
    "    waveform_save_path = os.path.join(output_dir, f\"{title}_waveform.png\")\n",
    "    plot_waveform(y, sr, f\"{title} - Waveform\", waveform_save_path)\n",
    "    print(f\"Waveform for '{title}' saved at: {waveform_save_path}\")\n",
    "    \n",
    "    for window_name, window_func in window_types.items():\n",
    "        print(f\"Generating spectrogram using {window_name}...\")\n",
    "        D, freqs, times = compute_stft(y, sr, window_func, N=512, hop_length=256)\n",
    "        save_path = os.path.join(output_dir, f\"{title}_{window_name}.png\")\n",
    "        plot_spectrogram(D, freqs, times, f\"{title} - {genre} Genre - {window_name}\", sr, hop_length=256, save_path=save_path)\n",
    "        \n",
    "\n",
    "        spectral_centroid, spectral_bandwidth = compute_spectral_metrics(D, y, sr)\n",
    "        snr, spectral_leakage, rmse = compute_correctness_metrics(y, D, sr)\n",
    "        \n",
    "        results.append((title, genre, window_name, snr, spectral_leakage, rmse, \n",
    "                        np.mean(spectral_centroid), np.mean(spectral_bandwidth)))\n"
   ]
  },
  {
   "cell_type": "code",
   "execution_count": 23,
   "metadata": {},
   "outputs": [
    {
     "name": "stdout",
     "output_type": "stream",
     "text": [
      "\n",
      "Analysis report saved at: ../output/song_spectrogram/spectrogram_analysis_report.csv\n"
     ]
    }
   ],
   "source": [
    "columns = ['Title', 'Genre', 'Window', 'SNR (dB)', 'Spectral Leakage', 'RMSE',\n",
    "           'Spectral Centroid', 'Spectral Bandwidth']\n",
    "df_results = pd.DataFrame(results, columns=columns)\n",
    "report_path = os.path.join(output_dir, \"spectrogram_analysis_report.csv\")\n",
    "df_results.to_csv(report_path, index=False)\n",
    "\n",
    "print(f\"\\nAnalysis report saved at: {report_path}\")"
   ]
  }
 ],
 "metadata": {
  "kernelspec": {
   "display_name": "Python 3",
   "language": "python",
   "name": "python3"
  },
  "language_info": {
   "codemirror_mode": {
    "name": "ipython",
    "version": 3
   },
   "file_extension": ".py",
   "mimetype": "text/x-python",
   "name": "python",
   "nbconvert_exporter": "python",
   "pygments_lexer": "ipython3",
   "version": "3.8.10"
  }
 },
 "nbformat": 4,
 "nbformat_minor": 2
}
